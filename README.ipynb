{
 "cells": [
  {
   "cell_type": "markdown",
   "metadata": {},
   "source": [
    "# ST2195 Programming for Data Science\n",
    "##### Lee Hin Sing Raymond\n",
    "##### March 2022"
   ]
  },
  {
   "cell_type": "markdown",
   "metadata": {},
   "source": [
    "### Practice Assignment 8\n",
    "\n",
    "#### Introduction\n",
    "\n",
    "This is the fifth assignment for the course [**ST2195 Programming for Data Science**](https://www.lse.ac.uk/study-at-lse/uolip/Assets/documents/21-22-CIS-Sheets/ST2195-Programming-for-data-science.pdf). R and Python programming will be the main focus of this introductory course.\n",
    "\n",
    "This is a compulsory 200-course for students who are going for a **BSc Data Science and Business Analytics** degree in the University of London, the academic direction of the degree program is provided by [London School of Economics and Political Science](https://www.lse.ac.uk/) (LSE). The course convenors are Mr [Ioannis Kosmidis](https://www.ikosmidis.com/) and Dr [Kostas Kalogeropoulos](https://www.lse.ac.uk/Statistics/People/Dr-Kostas-Kalogeropoulos).\n",
    "\n",
    "Throughout the half-year course, there will be a take-home assignment every two weeks to demonstrate what we have learned before. All final works should be uploaded to a GitHub repository for version control.\n",
    "\n",
    "### Assignment\n",
    "\n",
    "Create a GitHub repository called “st2195_assignment_8” and include the following Python scripts:\n",
    "\n",
    "* assignment_8_1.ipynb to replicate assignment 7 in Python [5 points]\n",
    "\n",
    "* assignment_8_2.ipynb to describe the latest bilateral trade data for the G7 (this aggregate can be computed using bilateral imports and exports data available on the IMF Direction of Trade Statistics) with the three network graphical representations in the module on network visualisation [2.5 points]\n",
    "\n",
    "* assignment_8_3.ipynb to repeat the second bullet point using one year ago data and compare the output with the latest results using a 3x2 subplot containing all the network representations [2.5 points]\n",
    "\n",
    "Note 1: please upload the data used for the second and third bullet points in csv format in your repository.\n",
    "\n",
    "Note 2: describe in the README.md file the measure used for aggregating bilateral imports and exports. Be careful with the definition of the data downloaded from the IMF DTS."
   ]
  }
 ],
 "metadata": {
  "kernelspec": {
   "display_name": "Python 3 (ipykernel)",
   "language": "python",
   "name": "python3"
  },
  "language_info": {
   "codemirror_mode": {
    "name": "ipython",
    "version": 3
   },
   "file_extension": ".py",
   "mimetype": "text/x-python",
   "name": "python",
   "nbconvert_exporter": "python",
   "pygments_lexer": "ipython3",
   "version": "3.8.3"
  }
 },
 "nbformat": 4,
 "nbformat_minor": 4
}
